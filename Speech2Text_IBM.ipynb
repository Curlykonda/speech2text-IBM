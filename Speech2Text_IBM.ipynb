{
 "cells": [
  {
   "cell_type": "code",
   "execution_count": 1,
   "metadata": {},
   "outputs": [
    {
     "name": "stdout",
     "output_type": "stream",
     "text": [
      "Requirement already satisfied: ibm_watson in /home/henning/anaconda3/lib/python3.7/site-packages (5.1.0)\n",
      "Requirement already satisfied: requests<3.0,>=2.0 in /home/henning/anaconda3/lib/python3.7/site-packages (from ibm_watson) (2.22.0)\n",
      "Requirement already satisfied: websocket-client==0.48.0 in /home/henning/anaconda3/lib/python3.7/site-packages (from ibm_watson) (0.48.0)\n",
      "Requirement already satisfied: python-dateutil>=2.5.3 in /home/henning/anaconda3/lib/python3.7/site-packages (from ibm_watson) (2.8.1)\n",
      "Requirement already satisfied: ibm-cloud-sdk-core>=3.3.6 in /home/henning/anaconda3/lib/python3.7/site-packages (from ibm_watson) (3.7.0)\n",
      "Requirement already satisfied: certifi>=2017.4.17 in /home/henning/anaconda3/lib/python3.7/site-packages (from requests<3.0,>=2.0->ibm_watson) (2019.6.16)\n",
      "Requirement already satisfied: urllib3!=1.25.0,!=1.25.1,<1.26,>=1.21.1 in /home/henning/anaconda3/lib/python3.7/site-packages (from requests<3.0,>=2.0->ibm_watson) (1.25.8)\n",
      "Requirement already satisfied: chardet<3.1.0,>=3.0.2 in /home/henning/anaconda3/lib/python3.7/site-packages (from requests<3.0,>=2.0->ibm_watson) (3.0.4)\n",
      "Requirement already satisfied: idna<2.9,>=2.5 in /home/henning/anaconda3/lib/python3.7/site-packages (from requests<3.0,>=2.0->ibm_watson) (2.8)\n",
      "Requirement already satisfied: six in /home/henning/anaconda3/lib/python3.7/site-packages (from websocket-client==0.48.0->ibm_watson) (1.13.0)\n",
      "Requirement already satisfied: PyJWT<3.0.0,>=2.0.1 in /home/henning/anaconda3/lib/python3.7/site-packages (from ibm-cloud-sdk-core>=3.3.6->ibm_watson) (2.0.1)\n",
      "Requirement already satisfied: pydub in /home/henning/anaconda3/lib/python3.7/site-packages (0.25.1)\n"
     ]
    }
   ],
   "source": [
    "!pip install ibm_watson\n",
    "!pip install pydub"
   ]
  },
  {
   "cell_type": "code",
   "execution_count": 2,
   "metadata": {},
   "outputs": [],
   "source": [
    "import os\n",
    "import json\n",
    "import math\n",
    "\n",
    "from ibm_watson import SpeechToTextV1\n",
    "\n",
    "from ibm_cloud_sdk_core.authenticators import IAMAuthenticator, BasicAuthenticator\n",
    "from pydub import AudioSegment"
   ]
  },
  {
   "cell_type": "code",
   "execution_count": 10,
   "metadata": {},
   "outputs": [],
   "source": [
    "with open('./my-IBM-keys.json', 'r') as f_in:\n",
    "    credentials = json.load(f_in)"
   ]
  },
  {
   "cell_type": "code",
   "execution_count": 11,
   "metadata": {},
   "outputs": [],
   "source": [
    "api_key= credentials['api-keys'][0]\n",
    "\n",
    "service_endpoint='https://api.eu-gb.speech-to-text.watson.cloud.ibm.com'\n",
    "my_endpoint=credentials['endpoint']"
   ]
  },
  {
   "cell_type": "markdown",
   "metadata": {},
   "source": [
    "## Setup STT Service"
   ]
  },
  {
   "cell_type": "code",
   "execution_count": 12,
   "metadata": {},
   "outputs": [],
   "source": [
    "authenticator = IAMAuthenticator(api_key)\n",
    "#authenticator = BasicAuthenticator('api-key', api_key)\n",
    "speech2text = SpeechToTextV1(authenticator=authenticator)\n",
    "\n",
    "speech2text.set_service_url(my_endpoint)"
   ]
  },
  {
   "cell_type": "code",
   "execution_count": 13,
   "metadata": {},
   "outputs": [
    {
     "name": "stdout",
     "output_type": "stream",
     "text": [
      "{\n",
      "  \"models\": [\n",
      "    {\n",
      "      \"name\": \"es-MX_BroadbandModel\",\n",
      "      \"rate\": 16000,\n",
      "      \"language\": \"es-MX\",\n",
      "      \"description\": \"Mexican Spanish broadband model.\",\n",
      "      \"supported_features\": {\n",
      "        \"custom_language_model\": true,\n",
      "        \"speaker_labels\": true\n",
      "      },\n",
      "      \"url\": \"https://api.eu-gb.speech-to-text.watson.cloud.ibm.com/instances/a4e78391-c3cd-4b79-a95b-3d5eaf9f3d0a/v1/models/es-MX_BroadbandModel\"\n",
      "    },\n",
      "    {\n",
      "      \"name\": \"zh-CN_BroadbandModel\",\n",
      "      \"rate\": 16000,\n",
      "      \"language\": \"zh-CN\",\n",
      "      \"description\": \"Mandarin broadband model.\",\n",
      "      \"supported_features\": {\n",
      "        \"custom_language_model\": false,\n",
      "        \"speaker_labels\": true\n",
      "      },\n",
      "      \"url\": \"https://api.eu-gb.speech-to-text.watson.cloud.ibm.com/instances/a4e78391-c3cd-4b79-a95b-3d5eaf9f3d0a/v1/models/zh-CN_BroadbandModel\"\n",
      "    },\n",
      "    {\n",
      "      \"name\": \"es-CL_BroadbandModel\",\n",
      "      \"rate\": 16000,\n",
      "      \"language\": \"es-CL\",\n",
      "      \"description\": \"Chilean Spanish broadband model.\",\n",
      "      \"supported_features\": {\n",
      "        \"custom_language_model\": true,\n",
      "        \"speaker_labels\": true\n",
      "      },\n",
      "      \"url\": \"https://api.eu-gb.speech-to-text.watson.cloud.ibm.com/instances/a4e78391-c3cd-4b79-a95b-3d5eaf9f3d0a/v1/models/es-CL_BroadbandModel\"\n",
      "    },\n",
      "    {\n",
      "      \"name\": \"ja-JP_BroadbandModel\",\n",
      "      \"rate\": 16000,\n",
      "      \"language\": \"ja-JP\",\n",
      "      \"description\": \"Japanese broadband model.\",\n",
      "      \"supported_features\": {\n",
      "        \"custom_language_model\": true,\n",
      "        \"speaker_labels\": true\n",
      "      },\n",
      "      \"url\": \"https://api.eu-gb.speech-to-text.watson.cloud.ibm.com/instances/a4e78391-c3cd-4b79-a95b-3d5eaf9f3d0a/v1/models/ja-JP_BroadbandModel\"\n",
      "    },\n",
      "    {\n",
      "      \"name\": \"es-ES_BroadbandModel\",\n",
      "      \"rate\": 16000,\n",
      "      \"language\": \"es-ES\",\n",
      "      \"description\": \"Castilian Spanish broadband model.\",\n",
      "      \"supported_features\": {\n",
      "        \"custom_language_model\": true,\n",
      "        \"speaker_labels\": true\n",
      "      },\n",
      "      \"url\": \"https://api.eu-gb.speech-to-text.watson.cloud.ibm.com/instances/a4e78391-c3cd-4b79-a95b-3d5eaf9f3d0a/v1/models/es-ES_BroadbandModel\"\n",
      "    },\n",
      "    {\n",
      "      \"name\": \"en-US_BroadbandModel\",\n",
      "      \"rate\": 16000,\n",
      "      \"language\": \"en-US\",\n",
      "      \"description\": \"US English broadband model.\",\n",
      "      \"supported_features\": {\n",
      "        \"custom_language_model\": true,\n",
      "        \"speaker_labels\": true\n",
      "      },\n",
      "      \"url\": \"https://api.eu-gb.speech-to-text.watson.cloud.ibm.com/instances/a4e78391-c3cd-4b79-a95b-3d5eaf9f3d0a/v1/models/en-US_BroadbandModel\"\n",
      "    },\n",
      "    {\n",
      "      \"name\": \"es-PE_BroadbandModel\",\n",
      "      \"rate\": 16000,\n",
      "      \"language\": \"es-PE\",\n",
      "      \"description\": \"Peruvian Spanish broadband model.\",\n",
      "      \"supported_features\": {\n",
      "        \"custom_language_model\": true,\n",
      "        \"speaker_labels\": true\n",
      "      },\n",
      "      \"url\": \"https://api.eu-gb.speech-to-text.watson.cloud.ibm.com/instances/a4e78391-c3cd-4b79-a95b-3d5eaf9f3d0a/v1/models/es-PE_BroadbandModel\"\n",
      "    },\n",
      "    {\n",
      "      \"name\": \"pt-BR_BroadbandModel\",\n",
      "      \"rate\": 16000,\n",
      "      \"language\": \"pt-BR\",\n",
      "      \"description\": \"Brazilian Portuguese broadband model.\",\n",
      "      \"supported_features\": {\n",
      "        \"custom_language_model\": true,\n",
      "        \"speaker_labels\": true\n",
      "      },\n",
      "      \"url\": \"https://api.eu-gb.speech-to-text.watson.cloud.ibm.com/instances/a4e78391-c3cd-4b79-a95b-3d5eaf9f3d0a/v1/models/pt-BR_BroadbandModel\"\n",
      "    },\n",
      "    {\n",
      "      \"name\": \"es-CO_BroadbandModel\",\n",
      "      \"rate\": 16000,\n",
      "      \"language\": \"es-CO\",\n",
      "      \"description\": \"Colombian Spanish broadband model.\",\n",
      "      \"supported_features\": {\n",
      "        \"custom_language_model\": true,\n",
      "        \"speaker_labels\": true\n",
      "      },\n",
      "      \"url\": \"https://api.eu-gb.speech-to-text.watson.cloud.ibm.com/instances/a4e78391-c3cd-4b79-a95b-3d5eaf9f3d0a/v1/models/es-CO_BroadbandModel\"\n",
      "    },\n",
      "    {\n",
      "      \"name\": \"es-AR_BroadbandModel\",\n",
      "      \"rate\": 16000,\n",
      "      \"language\": \"es-AR\",\n",
      "      \"description\": \"Argentinian Spanish broadband model.\",\n",
      "      \"supported_features\": {\n",
      "        \"custom_language_model\": true,\n",
      "        \"speaker_labels\": true\n",
      "      },\n",
      "      \"url\": \"https://api.eu-gb.speech-to-text.watson.cloud.ibm.com/instances/a4e78391-c3cd-4b79-a95b-3d5eaf9f3d0a/v1/models/es-AR_BroadbandModel\"\n",
      "    },\n",
      "    {\n",
      "      \"name\": \"pt-BR_NarrowbandModel\",\n",
      "      \"rate\": 8000,\n",
      "      \"language\": \"pt-BR\",\n",
      "      \"description\": \"Brazilian Portuguese narrowband model.\",\n",
      "      \"supported_features\": {\n",
      "        \"custom_language_model\": true,\n",
      "        \"speaker_labels\": true\n",
      "      },\n",
      "      \"url\": \"https://api.eu-gb.speech-to-text.watson.cloud.ibm.com/instances/a4e78391-c3cd-4b79-a95b-3d5eaf9f3d0a/v1/models/pt-BR_NarrowbandModel\"\n",
      "    },\n",
      "    {\n",
      "      \"name\": \"es-CL_NarrowbandModel\",\n",
      "      \"rate\": 8000,\n",
      "      \"language\": \"es-CL\",\n",
      "      \"description\": \"Chilean Spanish narrowband model.\",\n",
      "      \"supported_features\": {\n",
      "        \"custom_language_model\": true,\n",
      "        \"speaker_labels\": true\n",
      "      },\n",
      "      \"url\": \"https://api.eu-gb.speech-to-text.watson.cloud.ibm.com/instances/a4e78391-c3cd-4b79-a95b-3d5eaf9f3d0a/v1/models/es-CL_NarrowbandModel\"\n",
      "    },\n",
      "    {\n",
      "      \"name\": \"nl-NL_BroadbandModel\",\n",
      "      \"rate\": 16000,\n",
      "      \"language\": \"nl-NL\",\n",
      "      \"description\": \"Dutch broadband model.\",\n",
      "      \"supported_features\": {\n",
      "        \"custom_language_model\": true,\n",
      "        \"speaker_labels\": true\n",
      "      },\n",
      "      \"url\": \"https://api.eu-gb.speech-to-text.watson.cloud.ibm.com/instances/a4e78391-c3cd-4b79-a95b-3d5eaf9f3d0a/v1/models/nl-NL_BroadbandModel\"\n",
      "    },\n",
      "    {\n",
      "      \"name\": \"es-MX_NarrowbandModel\",\n",
      "      \"rate\": 8000,\n",
      "      \"language\": \"es-MX\",\n",
      "      \"description\": \"Mexican Spanish narrowband model.\",\n",
      "      \"supported_features\": {\n",
      "        \"custom_language_model\": true,\n",
      "        \"speaker_labels\": true\n",
      "      },\n",
      "      \"url\": \"https://api.eu-gb.speech-to-text.watson.cloud.ibm.com/instances/a4e78391-c3cd-4b79-a95b-3d5eaf9f3d0a/v1/models/es-MX_NarrowbandModel\"\n",
      "    },\n",
      "    {\n",
      "      \"name\": \"de-DE_NarrowbandModel\",\n",
      "      \"rate\": 8000,\n",
      "      \"language\": \"de-DE\",\n",
      "      \"description\": \"German narrowband model.\",\n",
      "      \"supported_features\": {\n",
      "        \"custom_language_model\": true,\n",
      "        \"speaker_labels\": true\n",
      "      },\n",
      "      \"url\": \"https://api.eu-gb.speech-to-text.watson.cloud.ibm.com/instances/a4e78391-c3cd-4b79-a95b-3d5eaf9f3d0a/v1/models/de-DE_NarrowbandModel\"\n",
      "    },\n",
      "    {\n",
      "      \"name\": \"it-IT_NarrowbandModel\",\n",
      "      \"rate\": 8000,\n",
      "      \"language\": \"it-IT\",\n",
      "      \"description\": \"Italian narrowband model.\",\n",
      "      \"supported_features\": {\n",
      "        \"custom_language_model\": true,\n",
      "        \"speaker_labels\": true\n",
      "      },\n",
      "      \"url\": \"https://api.eu-gb.speech-to-text.watson.cloud.ibm.com/instances/a4e78391-c3cd-4b79-a95b-3d5eaf9f3d0a/v1/models/it-IT_NarrowbandModel\"\n",
      "    },\n",
      "    {\n",
      "      \"name\": \"ko-KR_BroadbandModel\",\n",
      "      \"rate\": 16000,\n",
      "      \"language\": \"ko-KR\",\n",
      "      \"description\": \"Korean broadband model.\",\n",
      "      \"supported_features\": {\n",
      "        \"custom_language_model\": true,\n",
      "        \"speaker_labels\": true\n",
      "      },\n",
      "      \"url\": \"https://api.eu-gb.speech-to-text.watson.cloud.ibm.com/instances/a4e78391-c3cd-4b79-a95b-3d5eaf9f3d0a/v1/models/ko-KR_BroadbandModel\"\n",
      "    },\n",
      "    {\n",
      "      \"name\": \"en-US_NarrowbandModel\",\n",
      "      \"rate\": 8000,\n",
      "      \"language\": \"en-US\",\n",
      "      \"description\": \"US English narrowband model.\",\n",
      "      \"supported_features\": {\n",
      "        \"custom_language_model\": true,\n",
      "        \"speaker_labels\": true\n",
      "      },\n",
      "      \"url\": \"https://api.eu-gb.speech-to-text.watson.cloud.ibm.com/instances/a4e78391-c3cd-4b79-a95b-3d5eaf9f3d0a/v1/models/en-US_NarrowbandModel\"\n",
      "    },\n",
      "    {\n",
      "      \"name\": \"it-IT_BroadbandModel\",\n",
      "      \"rate\": 16000,\n",
      "      \"language\": \"it-IT\",\n",
      "      \"description\": \"Italian broadband model.\",\n",
      "      \"supported_features\": {\n",
      "        \"custom_language_model\": true,\n",
      "        \"speaker_labels\": true\n",
      "      },\n",
      "      \"url\": \"https://api.eu-gb.speech-to-text.watson.cloud.ibm.com/instances/a4e78391-c3cd-4b79-a95b-3d5eaf9f3d0a/v1/models/it-IT_BroadbandModel\"\n",
      "    },\n",
      "    {\n",
      "      \"name\": \"es-CO_NarrowbandModel\",\n",
      "      \"rate\": 8000,\n",
      "      \"language\": \"es-CO\",\n",
      "      \"description\": \"Colombian Spanish narrowband model.\",\n",
      "      \"supported_features\": {\n",
      "        \"custom_language_model\": true,\n",
      "        \"speaker_labels\": true\n",
      "      },\n",
      "      \"url\": \"https://api.eu-gb.speech-to-text.watson.cloud.ibm.com/instances/a4e78391-c3cd-4b79-a95b-3d5eaf9f3d0a/v1/models/es-CO_NarrowbandModel\"\n",
      "    },\n",
      "    {\n",
      "      \"name\": \"es-ES_NarrowbandModel\",\n",
      "      \"rate\": 8000,\n",
      "      \"language\": \"es-ES\",\n",
      "      \"description\": \"Castilian Spanish narrowband model.\",\n",
      "      \"supported_features\": {\n",
      "        \"custom_language_model\": true,\n",
      "        \"speaker_labels\": true\n",
      "      },\n",
      "      \"url\": \"https://api.eu-gb.speech-to-text.watson.cloud.ibm.com/instances/a4e78391-c3cd-4b79-a95b-3d5eaf9f3d0a/v1/models/es-ES_NarrowbandModel\"\n",
      "    },\n",
      "    {\n",
      "      \"name\": \"nl-NL_NarrowbandModel\",\n",
      "      \"rate\": 8000,\n",
      "      \"language\": \"nl-NL\",\n",
      "      \"description\": \"Dutch narrowband model.\",\n",
      "      \"supported_features\": {\n",
      "        \"custom_language_model\": true,\n",
      "        \"speaker_labels\": true\n",
      "      },\n",
      "      \"url\": \"https://api.eu-gb.speech-to-text.watson.cloud.ibm.com/instances/a4e78391-c3cd-4b79-a95b-3d5eaf9f3d0a/v1/models/nl-NL_NarrowbandModel\"\n",
      "    },\n",
      "    {\n",
      "      \"name\": \"en-GB_BroadbandModel\",\n",
      "      \"rate\": 16000,\n",
      "      \"language\": \"en-GB\",\n",
      "      \"description\": \"GB English broadband model.\",\n",
      "      \"supported_features\": {\n",
      "        \"custom_language_model\": true,\n",
      "        \"speaker_labels\": true\n",
      "      },\n",
      "      \"url\": \"https://api.eu-gb.speech-to-text.watson.cloud.ibm.com/instances/a4e78391-c3cd-4b79-a95b-3d5eaf9f3d0a/v1/models/en-GB_BroadbandModel\"\n",
      "    },\n",
      "    {\n",
      "      \"name\": \"fr-FR_BroadbandModel\",\n",
      "      \"rate\": 16000,\n",
      "      \"language\": \"fr-FR\",\n",
      "      \"description\": \"French broadband model.\",\n",
      "      \"supported_features\": {\n",
      "        \"custom_language_model\": true,\n",
      "        \"speaker_labels\": true\n",
      "      },\n",
      "      \"url\": \"https://api.eu-gb.speech-to-text.watson.cloud.ibm.com/instances/a4e78391-c3cd-4b79-a95b-3d5eaf9f3d0a/v1/models/fr-FR_BroadbandModel\"\n",
      "    },\n",
      "    {\n",
      "      \"name\": \"ko-KR_NarrowbandModel\",\n",
      "      \"rate\": 8000,\n",
      "      \"language\": \"ko-KR\",\n",
      "      \"description\": \"Korean narrowband model.\",\n",
      "      \"supported_features\": {\n",
      "        \"custom_language_model\": true,\n",
      "        \"speaker_labels\": true\n",
      "      },\n",
      "      \"url\": \"https://api.eu-gb.speech-to-text.watson.cloud.ibm.com/instances/a4e78391-c3cd-4b79-a95b-3d5eaf9f3d0a/v1/models/ko-KR_NarrowbandModel\"\n",
      "    },\n",
      "    {\n",
      "      \"name\": \"es-AR_NarrowbandModel\",\n",
      "      \"rate\": 8000,\n",
      "      \"language\": \"es-AR\",\n",
      "      \"description\": \"Argentinian Spanish narrowband model.\",\n",
      "      \"supported_features\": {\n",
      "        \"custom_language_model\": true,\n",
      "        \"speaker_labels\": true\n",
      "      },\n",
      "      \"url\": \"https://api.eu-gb.speech-to-text.watson.cloud.ibm.com/instances/a4e78391-c3cd-4b79-a95b-3d5eaf9f3d0a/v1/models/es-AR_NarrowbandModel\"\n",
      "    },\n",
      "    {\n",
      "      \"name\": \"ja-JP_NarrowbandModel\",\n",
      "      \"rate\": 8000,\n",
      "      \"language\": \"ja-JP\",\n",
      "      \"description\": \"Japanese narrowband model.\",\n",
      "      \"supported_features\": {\n",
      "        \"custom_language_model\": true,\n",
      "        \"speaker_labels\": true\n",
      "      },\n",
      "      \"url\": \"https://api.eu-gb.speech-to-text.watson.cloud.ibm.com/instances/a4e78391-c3cd-4b79-a95b-3d5eaf9f3d0a/v1/models/ja-JP_NarrowbandModel\"\n",
      "    },\n",
      "    {\n",
      "      \"name\": \"ar-MS_BroadbandModel\",\n",
      "      \"rate\": 16000,\n",
      "      \"language\": \"ar-MS\",\n",
      "      \"description\": \"Modern Standard Arabic broadband model.\",\n",
      "      \"supported_features\": {\n",
      "        \"custom_language_model\": false,\n",
      "        \"speaker_labels\": true\n",
      "      },\n",
      "      \"url\": \"https://api.eu-gb.speech-to-text.watson.cloud.ibm.com/instances/a4e78391-c3cd-4b79-a95b-3d5eaf9f3d0a/v1/models/ar-MS_BroadbandModel\"\n",
      "    },\n",
      "    {\n",
      "      \"name\": \"en-GB_NarrowbandModel\",\n",
      "      \"rate\": 8000,\n",
      "      \"language\": \"en-GB\",\n",
      "      \"description\": \"GB English narrowband model.\",\n",
      "      \"supported_features\": {\n",
      "        \"custom_language_model\": true,\n",
      "        \"speaker_labels\": true\n",
      "      },\n",
      "      \"url\": \"https://api.eu-gb.speech-to-text.watson.cloud.ibm.com/instances/a4e78391-c3cd-4b79-a95b-3d5eaf9f3d0a/v1/models/en-GB_NarrowbandModel\"\n",
      "    },\n",
      "    {\n",
      "      \"name\": \"en-US_ShortForm_NarrowbandModel\",\n",
      "      \"rate\": 8000,\n",
      "      \"language\": \"en-US\",\n",
      "      \"description\": \"US English Short Form narrowband model.\",\n",
      "      \"supported_features\": {\n",
      "        \"custom_language_model\": true,\n",
      "        \"speaker_labels\": true\n",
      "      },\n",
      "      \"url\": \"https://api.eu-gb.speech-to-text.watson.cloud.ibm.com/instances/a4e78391-c3cd-4b79-a95b-3d5eaf9f3d0a/v1/models/en-US_ShortForm_NarrowbandModel\"\n",
      "    },\n",
      "    {\n",
      "      \"name\": \"es-PE_NarrowbandModel\",\n",
      "      \"rate\": 8000,\n",
      "      \"language\": \"es-PE\",\n",
      "      \"description\": \"Peruvian Spanish narrowband model.\",\n",
      "      \"supported_features\": {\n",
      "        \"custom_language_model\": true,\n",
      "        \"speaker_labels\": true\n",
      "      },\n",
      "      \"url\": \"https://api.eu-gb.speech-to-text.watson.cloud.ibm.com/instances/a4e78391-c3cd-4b79-a95b-3d5eaf9f3d0a/v1/models/es-PE_NarrowbandModel\"\n",
      "    },\n",
      "    {\n",
      "      \"name\": \"fr-CA_NarrowbandModel\",\n",
      "      \"rate\": 8000,\n",
      "      \"language\": \"fr-CA\",\n",
      "      \"description\": \"French Canadian narrowband model.\",\n",
      "      \"supported_features\": {\n",
      "        \"custom_language_model\": true,\n",
      "        \"speaker_labels\": true\n",
      "      },\n",
      "      \"url\": \"https://api.eu-gb.speech-to-text.watson.cloud.ibm.com/instances/a4e78391-c3cd-4b79-a95b-3d5eaf9f3d0a/v1/models/fr-CA_NarrowbandModel\"\n",
      "    },\n",
      "    {\n",
      "      \"name\": \"en-AU_BroadbandModel\",\n",
      "      \"rate\": 16000,\n",
      "      \"language\": \"en-AU\",\n",
      "      \"description\": \"AU English broadband model.\",\n",
      "      \"supported_features\": {\n",
      "        \"custom_language_model\": true,\n",
      "        \"speaker_labels\": true\n",
      "      },\n",
      "      \"url\": \"https://api.eu-gb.speech-to-text.watson.cloud.ibm.com/instances/a4e78391-c3cd-4b79-a95b-3d5eaf9f3d0a/v1/models/en-AU_BroadbandModel\"\n",
      "    },\n",
      "    {\n",
      "      \"name\": \"fr-CA_BroadbandModel\",\n",
      "      \"rate\": 16000,\n",
      "      \"language\": \"fr-CA\",\n",
      "      \"description\": \"French Canadian broadband model.\",\n",
      "      \"supported_features\": {\n",
      "        \"custom_language_model\": true,\n",
      "        \"speaker_labels\": true\n",
      "      },\n",
      "      \"url\": \"https://api.eu-gb.speech-to-text.watson.cloud.ibm.com/instances/a4e78391-c3cd-4b79-a95b-3d5eaf9f3d0a/v1/models/fr-CA_BroadbandModel\"\n",
      "    },\n",
      "    {\n",
      "      \"name\": \"zh-CN_NarrowbandModel\",\n",
      "      \"rate\": 8000,\n",
      "      \"language\": \"zh-CN\",\n",
      "      \"description\": \"Mandarin narrowband model.\",\n",
      "      \"supported_features\": {\n",
      "        \"custom_language_model\": false,\n",
      "        \"speaker_labels\": true\n",
      "      },\n",
      "      \"url\": \"https://api.eu-gb.speech-to-text.watson.cloud.ibm.com/instances/a4e78391-c3cd-4b79-a95b-3d5eaf9f3d0a/v1/models/zh-CN_NarrowbandModel\"\n",
      "    },\n",
      "    {\n",
      "      \"name\": \"de-DE_BroadbandModel\",\n",
      "      \"rate\": 16000,\n",
      "      \"language\": \"de-DE\",\n",
      "      \"description\": \"German broadband model.\",\n",
      "      \"supported_features\": {\n",
      "        \"custom_language_model\": true,\n",
      "        \"speaker_labels\": true\n",
      "      },\n",
      "      \"url\": \"https://api.eu-gb.speech-to-text.watson.cloud.ibm.com/instances/a4e78391-c3cd-4b79-a95b-3d5eaf9f3d0a/v1/models/de-DE_BroadbandModel\"\n",
      "    },\n",
      "    {\n",
      "      \"name\": \"en-AU_NarrowbandModel\",\n",
      "      \"rate\": 8000,\n",
      "      \"language\": \"en-AU\",\n",
      "      \"description\": \"AU English narrowband model.\",\n",
      "      \"supported_features\": {\n",
      "        \"custom_language_model\": true,\n",
      "        \"speaker_labels\": true\n",
      "      },\n",
      "      \"url\": \"https://api.eu-gb.speech-to-text.watson.cloud.ibm.com/instances/a4e78391-c3cd-4b79-a95b-3d5eaf9f3d0a/v1/models/en-AU_NarrowbandModel\"\n",
      "    },\n",
      "    {\n",
      "      \"name\": \"fr-FR_NarrowbandModel\",\n",
      "      \"rate\": 8000,\n",
      "      \"language\": \"fr-FR\",\n",
      "      \"description\": \"French narrowband model.\",\n",
      "      \"supported_features\": {\n",
      "        \"custom_language_model\": true,\n",
      "        \"speaker_labels\": true\n",
      "      },\n",
      "      \"url\": \"https://api.eu-gb.speech-to-text.watson.cloud.ibm.com/instances/a4e78391-c3cd-4b79-a95b-3d5eaf9f3d0a/v1/models/fr-FR_NarrowbandModel\"\n",
      "    }\n",
      "  ]\n",
      "}\n"
     ]
    }
   ],
   "source": [
    "# test connection\n",
    "speech_models = speech2text.list_models().get_result()\n",
    "print(json.dumps(speech_models, indent=2))"
   ]
  },
  {
   "cell_type": "markdown",
   "metadata": {},
   "source": [
    "## Split Larger Audio File into Chunk"
   ]
  },
  {
   "cell_type": "code",
   "execution_count": 6,
   "metadata": {},
   "outputs": [],
   "source": [
    "data_root = './data/'"
   ]
  },
  {
   "cell_type": "code",
   "execution_count": 8,
   "metadata": {},
   "outputs": [
    {
     "data": {
      "text/plain": [
       "['p8_2021-03-10_Children_Screens.mp3',\n",
       " 'p2_2021-03-10_Children_Screens.mp3',\n",
       " '2021-03-10_Children_Screens.mp3',\n",
       " 'p1_2021-03-10_Children_Screens.mp3',\n",
       " 'p0_2021-03-10_Children_Screens.mp3',\n",
       " 'PR_file2_2021-04-01_12-06-30.mp3',\n",
       " 'p5_2021-03-10_Children_Screens.mp3',\n",
       " 'p3_2021-03-10_Children_Screens.mp3',\n",
       " 'p6_2021-03-10_Children_Screens.mp3',\n",
       " 'p4_2021-03-10_Children_Screens.mp3',\n",
       " 'p7_2021-03-10_Children_Screens.mp3']"
      ]
     },
     "execution_count": 8,
     "metadata": {},
     "output_type": "execute_result"
    }
   ],
   "source": [
    "os.listdir(data_root)"
   ]
  },
  {
   "cell_type": "code",
   "execution_count": 9,
   "metadata": {},
   "outputs": [],
   "source": [
    "my_audio = AudioSegment.from_mp3(data_root + 'PR_file2_2021-04-01_12-06-30.mp3')"
   ]
  },
  {
   "cell_type": "code",
   "execution_count": 10,
   "metadata": {},
   "outputs": [
    {
     "data": {
      "text/plain": [
       "3233.671836734694"
      ]
     },
     "execution_count": 10,
     "metadata": {},
     "output_type": "execute_result"
    }
   ],
   "source": [
    "my_audio.duration_seconds"
   ]
  },
  {
   "cell_type": "code",
   "execution_count": 189,
   "metadata": {},
   "outputs": [],
   "source": [
    "class SplitMp3Audio():\n",
    "    def __init__(self, filename, data_root='./data/', enc=\"mp3\"):\n",
    "        \n",
    "        self.root = data_root\n",
    "        self.filename = filename\n",
    "        self.filepath = os.path.join(self.root, self.filename)\n",
    "                \n",
    "        self.audio = AudioSegment.from_mp3(self.filepath)\n",
    "        \n",
    "        #self.silence_threshold = silence_threshold\n",
    "        \n",
    "        self.result_files = []\n",
    "    \n",
    "    def get_duration(self, sound=None, form=\"s\"):\n",
    "        \n",
    "        if sound is None:\n",
    "            sound = self.audio\n",
    "        elif not isinstance(sound, AudioSegment):\n",
    "            raise ValueError()\n",
    "        \n",
    "        if 's' == form:\n",
    "            return sound.duration_seconds\n",
    "        elif 'm' == form:\n",
    "            return math.ceil(self.get_duration(sound) / 60)\n",
    "        elif 'h' == form:\n",
    "            return math.ceil(self.get_duration(sound, 'm') / 60)\n",
    "        else:\n",
    "            raise ValueError()\n",
    "    \n",
    "    def get_f_name(self):\n",
    "        return self.filename\n",
    "    \n",
    "    def get_res_files(self):\n",
    "        return self.result_files\n",
    "    \n",
    "    def clean_res_files(self):\n",
    "        self.result_files = []\n",
    "    \n",
    "    def remove_all_res_files(self):\n",
    "        # remove the created sub-files\n",
    "        for i in range(len(self.result_files)):\n",
    "            f_name = self.result_files.pop()\n",
    "            if os.path.exists(f_name):\n",
    "                os.remove(f_name)\n",
    "    \n",
    "    def detect_leading_silence(self, sound, silence_threshold=-50.0, chunk_size=10):\n",
    "        '''\n",
    "        silence_threshold in dB\n",
    "        chunk_size in ms\n",
    "\n",
    "        iterate over chunks until you find the first one with sound\n",
    "        '''\n",
    "        trim_ms = 0 # ms\n",
    "\n",
    "        assert chunk_size > 0 # to avoid infinite loop\n",
    "        while sound[trim_ms:trim_ms+chunk_size].dBFS < silence_threshold and trim_ms < len(sound):\n",
    "            trim_ms += chunk_size\n",
    "\n",
    "        return trim_ms\n",
    "    \n",
    "    def trim_start_end(self, sound, start=None, end=None, silence_threshold=-50.0, chunk_size=10): \n",
    "        \n",
    "        if start is None and end is None:\n",
    "            # trim by detecting silence\n",
    "            start = self.detect_leading_silence(sound, silence_threshold, chunk_size)\n",
    "            end = self.detect_leading_silence(sound.reverse(), silence_threshold, chunk_size)\n",
    "\n",
    "        duration = len(sound) \n",
    "        trimmed_sound = sound[start:duration-end]\n",
    "        \n",
    "        return trimmed_sound\n",
    "    \n",
    "    def manual_trim_audio_file(self, start, end, f_name=None):\n",
    "        # start and end in ms \n",
    "        \n",
    "        if f_name is None: \n",
    "            sound = self.audio\n",
    "        elif isinstance(f_name, str):\n",
    "            sound = AudioSegment.from_mp3(f_name)\n",
    "            \n",
    "        trimmed_sound = self.trim_start_end(sound, start, end)\n",
    "        \n",
    "        return trimmed_sound\n",
    "    \n",
    "    def split_by_min(self, from_min, to_min, split_filename, trim=True):\n",
    "        t1 = from_min * 60 * 1000\n",
    "        t2 = to_min * 60 * 1000\n",
    "        split_audio = self.audio[t1:t2]\n",
    "        \n",
    "        if trim:\n",
    "            split_audio = self.trim_start_end(split_audio)\n",
    "        \n",
    "        file_name = os.path.join(self.root, split_filename)\n",
    "        split_audio.export(file_name, format=\"mp3\")\n",
    "        self.result_files.append(file_name)\n",
    "        \n",
    "        return split_audio\n",
    "        \n",
    "    def multiple_split(self, min_per_split, trim=True, pre=None):\n",
    "        \n",
    "        assert min_per_split is not None\n",
    "        \n",
    "        assert min_per_split > 0\n",
    "        \n",
    "        total_mins = self.get_duration(form='m')\n",
    "        \n",
    "        for idx, i in enumerate(range(0, total_mins, min_per_split)):\n",
    "            \n",
    "            if pre is not None:\n",
    "                split_name = pre + str(idx) + '_' + self.filename\n",
    "            else:\n",
    "                split_name = str(idx) + '_' + self.filename\n",
    "                \n",
    "            split_audio = self.split_by_min(i, i+min_per_split, split_name, trim=trim)\n",
    "            \n",
    "            print(str(idx) + ' Done')\n",
    "            if i == total_mins - min_per_split:\n",
    "                print('Split into {} parts. Done.'.format(i+1))"
   ]
  },
  {
   "cell_type": "code",
   "execution_count": 118,
   "metadata": {},
   "outputs": [
    {
     "data": {
      "text/plain": [
       "['results0_4.json',\n",
       " 'results_p1.json',\n",
       " 'speech2text-ba18bb43ca58.json',\n",
       " '.ipynb_checkpoints',\n",
       " 'Speech2Text_IBM.ipynb',\n",
       " 'data',\n",
       " 'output_f2.txt',\n",
       " 'results5_9.json',\n",
       " 'output',\n",
       " 'results_formatted.txt',\n",
       " 's2t-google-cloud.ipynb']"
      ]
     },
     "execution_count": 118,
     "metadata": {},
     "output_type": "execute_result"
    }
   ],
   "source": [
    "os.listdir()"
   ]
  },
  {
   "cell_type": "code",
   "execution_count": 190,
   "metadata": {},
   "outputs": [
    {
     "data": {
      "text/plain": [
       "54"
      ]
     },
     "execution_count": 190,
     "metadata": {},
     "output_type": "execute_result"
    }
   ],
   "source": [
    "#file_name = '2021-03-10_Children_Screens.mp3'\n",
    "f_name = 'PR_file2_2021-04-01_12-06-30.mp3'\n",
    "base_name = f_name.split('.')[0]\n",
    "audio_splitter = SplitMp3Audio(f_name, data_root)\n",
    "audio_splitter.get_duration(form='m')"
   ]
  },
  {
   "cell_type": "code",
   "execution_count": 191,
   "metadata": {},
   "outputs": [
    {
     "name": "stdout",
     "output_type": "stream",
     "text": [
      "0 Done\n",
      "1 Done\n",
      "2 Done\n",
      "3 Done\n",
      "4 Done\n",
      "5 Done\n"
     ]
    }
   ],
   "source": [
    "audio_splitter.multiple_split(min_per_split=10, pre='p')"
   ]
  },
  {
   "cell_type": "code",
   "execution_count": 193,
   "metadata": {},
   "outputs": [
    {
     "data": {
      "text/plain": [
       "[]"
      ]
     },
     "execution_count": 193,
     "metadata": {},
     "output_type": "execute_result"
    }
   ],
   "source": [
    "audio_splitter.get_res_files()"
   ]
  },
  {
   "cell_type": "code",
   "execution_count": 194,
   "metadata": {},
   "outputs": [],
   "source": [
    "#audio_splitter.remove_all_res_files()"
   ]
  },
  {
   "cell_type": "code",
   "execution_count": 133,
   "metadata": {},
   "outputs": [
    {
     "data": {
      "text/plain": [
       "460940"
      ]
     },
     "execution_count": 133,
     "metadata": {},
     "output_type": "execute_result"
    }
   ],
   "source": [
    "## manual curation \n",
    "\n",
    "f='./data/p0_PR_file2_2021-04-01_12-06-30.mp3'\n",
    "\n",
    "trimmed_sound = audio_splitter.manual_trim_audio_file(start=130000, end=0, f_name=f)\n",
    "audio_splitter.get_duration(trimmed_sound, form='m')"
   ]
  },
  {
   "cell_type": "code",
   "execution_count": 136,
   "metadata": {},
   "outputs": [
    {
     "data": {
      "text/plain": [
       "<_io.BufferedRandom name='./data/p0_PR_file2_2021-04-01_12-06-30.mp3'>"
      ]
     },
     "execution_count": 136,
     "metadata": {},
     "output_type": "execute_result"
    }
   ],
   "source": [
    "trimmed_sound.export(f, format=\"mp3\")"
   ]
  },
  {
   "cell_type": "code",
   "execution_count": 137,
   "metadata": {},
   "outputs": [
    {
     "name": "stdout",
     "output_type": "stream",
     "text": [
      "9\n"
     ]
    },
    {
     "data": {
      "text/plain": [
       "<_io.BufferedRandom name='./data/p2_PR_file2_2021-04-01_12-06-30.mp3'>"
      ]
     },
     "execution_count": 137,
     "metadata": {},
     "output_type": "execute_result"
    }
   ],
   "source": [
    "f='./data/p2_PR_file2_2021-04-01_12-06-30.mp3'\n",
    "\n",
    "trimmed_sound = audio_splitter.manual_trim_audio_file(start=50000, end=0, f_name=f)\n",
    "print(audio_splitter.get_duration(trimmed_sound, form='m'))\n",
    "trimmed_sound.export(f, format=\"mp3\")"
   ]
  },
  {
   "cell_type": "markdown",
   "metadata": {},
   "source": [
    "## Transcribe Audio Chunks"
   ]
  },
  {
   "cell_type": "code",
   "execution_count": 138,
   "metadata": {},
   "outputs": [
    {
     "data": {
      "text/plain": [
       "6"
      ]
     },
     "execution_count": 138,
     "metadata": {},
     "output_type": "execute_result"
    }
   ],
   "source": [
    "audio_files = audio_splitter.get_res_files()\n",
    "len(audio_files)"
   ]
  },
  {
   "cell_type": "code",
   "execution_count": 139,
   "metadata": {},
   "outputs": [
    {
     "name": "stdout",
     "output_type": "stream",
     "text": [
      "Transcribing ./data/p0_PR_file2_2021-04-01_12-06-30.mp3 ..\n",
      "Done\n",
      "Transcribing ./data/p1_PR_file2_2021-04-01_12-06-30.mp3 ..\n",
      "Done\n",
      "Transcribing ./data/p2_PR_file2_2021-04-01_12-06-30.mp3 ..\n",
      "Done\n",
      "Transcribing ./data/p3_PR_file2_2021-04-01_12-06-30.mp3 ..\n",
      "Done\n",
      "Transcribing ./data/p4_PR_file2_2021-04-01_12-06-30.mp3 ..\n",
      "Done\n",
      "Transcribing ./data/p5_PR_file2_2021-04-01_12-06-30.mp3 ..\n",
      "Done\n",
      "Saving results ..\n",
      "Complete!\n",
      "CPU times: user 643 ms, sys: 122 ms, total: 765 ms\n",
      "Wall time: 18min 44s\n"
     ]
    }
   ],
   "source": [
    "%%time\n",
    "results = []\n",
    "#n_max = 5\n",
    "f_name = audio_splitter.filename\n",
    "\n",
    "out_dir = './output/'\n",
    "\n",
    "#audio_files = ['./data/p0_2021-03-10_Children_Screens.mp3']\n",
    "\n",
    "for i, file in enumerate(audio_files): \n",
    "    print('Transcribing {} ..'.format(file))\n",
    "    with open(file, 'rb') as audio:\n",
    "        res = speech2text.recognize(audio=audio, \n",
    "                        content_type='audio/mp3',\n",
    "                        model='en-GB_NarrowbandModel',\n",
    "                        max_alternatives=0,\n",
    "                        continuous=True,\n",
    "                        inactivity_timeout=-1,\n",
    "                        speaker_labels=True).get_result()\n",
    "        \n",
    "    if 'results' not in res:\n",
    "            print('chunk {} has no results due to {}!'.format(i, res['error']))\n",
    "            \n",
    "    results.append(res)\n",
    "    print('Done')\n",
    "\n",
    "save_file = out_dir + base_name + '_results.json'\n",
    "print('Saving results: {}'.format(save_file))\n",
    "with open(save_file, 'w') as f_out: \n",
    "    json.dump(results, f_out)\n",
    "    \n",
    "print('Complete!')"
   ]
  },
  {
   "cell_type": "code",
   "execution_count": 88,
   "metadata": {},
   "outputs": [
    {
     "data": {
      "text/plain": [
       "6"
      ]
     },
     "execution_count": 88,
     "metadata": {},
     "output_type": "execute_result"
    }
   ],
   "source": [
    "len(results)"
   ]
  },
  {
   "cell_type": "code",
   "execution_count": 81,
   "metadata": {},
   "outputs": [],
   "source": [
    "# %%time\n",
    "# results5_9 = []\n",
    "# for i, file in enumerate(audio_files[5:]): \n",
    "#     print('Transcribing {} ..'.format(file))\n",
    "#     with open(file, 'rb') as audio:\n",
    "#         res = speech2text.recognize(audio=audio, \n",
    "#                         content_type='audio/mp3',\n",
    "#                         model='en-GB_NarrowbandModel',\n",
    "#                         max_alternatives=0,\n",
    "#                         continuous=True,\n",
    "#                         speaker_labels=True).get_result()\n",
    "#     results5_9.append(res)\n",
    "#     print('Done')\n",
    "\n",
    "# print('Saving results ..')\n",
    "# with open('results5_9.json', 'w') as f_out: \n",
    "#     json.dump(results5_9, f_out)\n",
    "    \n",
    "# print('Done')"
   ]
  },
  {
   "cell_type": "code",
   "execution_count": null,
   "metadata": {},
   "outputs": [],
   "source": [
    "## Clean Up"
   ]
  },
  {
   "cell_type": "code",
   "execution_count": 188,
   "metadata": {},
   "outputs": [],
   "source": [
    "audio_splitter.remove_all_res_files()"
   ]
  },
  {
   "cell_type": "code",
   "execution_count": null,
   "metadata": {},
   "outputs": [],
   "source": [
    "audio_splitter.get_res_files()"
   ]
  },
  {
   "cell_type": "markdown",
   "metadata": {},
   "source": [
    "## Format Transcribed Chunks into Text"
   ]
  },
  {
   "cell_type": "markdown",
   "metadata": {},
   "source": [
    "### Raw Text"
   ]
  },
  {
   "cell_type": "code",
   "execution_count": 146,
   "metadata": {},
   "outputs": [],
   "source": [
    "def simple_transcript2txt(results, post_fix): \n",
    "    text = []\n",
    "\n",
    "    for i, chunk in enumerate(results):\n",
    "        if 'results' not in chunk:\n",
    "            print('chunk {} has no results due to {}!'.format(i, chunk['error']))\n",
    "        else:\n",
    "            for res in chunk['results']:\n",
    "                text.append(res['alternatives'][0]['transcript'].rstrip() + '.\\n')\n",
    "            #print('chunk {} appended'.format(i))\n",
    "    \n",
    "    with open('output_{}.txt'.format(post_fix), 'w') as f_out: \n",
    "        f_out.writelines(text)\n",
    "        \n",
    "    return text"
   ]
  },
  {
   "cell_type": "code",
   "execution_count": 141,
   "metadata": {},
   "outputs": [],
   "source": [
    "# simple_transcript2txt(results0_4, '0_4')"
   ]
  },
  {
   "cell_type": "code",
   "execution_count": 145,
   "metadata": {},
   "outputs": [
    {
     "name": "stdout",
     "output_type": "stream",
     "text": [
      "chunk 0 appended\n",
      "chunk 1 appended\n",
      "chunk 2 appended\n",
      "chunk 3 appended\n",
      "chunk 4 appended\n",
      "chunk 5 appended\n"
     ]
    }
   ],
   "source": [
    "text = simple_transcript2txt(results, 'f2')"
   ]
  },
  {
   "cell_type": "code",
   "execution_count": 143,
   "metadata": {},
   "outputs": [],
   "source": [
    "#results0_4[0]['results'][1]['alternatives'][0]['timestamps']"
   ]
  },
  {
   "cell_type": "markdown",
   "metadata": {},
   "source": [
    "### Combine & Format Transcripts"
   ]
  },
  {
   "cell_type": "code",
   "execution_count": 148,
   "metadata": {},
   "outputs": [
    {
     "data": {
      "text/plain": [
       "['output_5_9.txt',\n",
       " 'output_0_4.txt',\n",
       " 'PR_file2_2021-04-01_12-06-30.mp3_results.json',\n",
       " 'full_transcript_formatted.txt']"
      ]
     },
     "execution_count": 148,
     "metadata": {},
     "output_type": "execute_result"
    }
   ],
   "source": [
    "os.listdir(out_dir)"
   ]
  },
  {
   "cell_type": "code",
   "execution_count": 157,
   "metadata": {},
   "outputs": [],
   "source": [
    "# load unformatted transcriptions \n",
    "with open(out_dir + 'PR_file2_2021-04-01_12-06-30.mp3_results.json', 'r') as f_in:\n",
    "    results_f2 = json.load(f_in)\n",
    "# with open('results5_9.json', 'r') as f_in:\n",
    "#     results5_9 = json.load(f_in)\n",
    "    \n",
    "# with open('results0_4.json', 'r') as f_in:\n",
    "#     results0_4 = json.load(f_in)\n",
    "\n",
    "# res_agg = results0_4 + results5_9\n",
    "# len(res_agg)\n",
    "res_agg = results"
   ]
  },
  {
   "cell_type": "code",
   "execution_count": 158,
   "metadata": {},
   "outputs": [],
   "source": [
    "minutes_per_chunk=10"
   ]
  },
  {
   "cell_type": "code",
   "execution_count": 159,
   "metadata": {},
   "outputs": [],
   "source": [
    "def get_timespan_paragraph(ts_list: list) -> (int, int): \n",
    "    '''\n",
    "    extract start and end point given timestamps of passage\n",
    "    '''\n",
    "    w0, start, _ = ts_list[0]\n",
    "    wT, _, end = ts_list[-1]\n",
    "    \n",
    "    return start, end"
   ]
  },
  {
   "cell_type": "code",
   "execution_count": 160,
   "metadata": {},
   "outputs": [
    {
     "data": {
      "text/plain": [
       "(3.04, 3.35)"
      ]
     },
     "execution_count": 160,
     "metadata": {},
     "output_type": "execute_result"
    }
   ],
   "source": [
    "# example: extract start-end-time stamp of 1st paragraph of 1st chunk\n",
    "\n",
    "get_timespan_paragraph(results_f2[0]['results'][1]['alternatives'][0]['timestamps'])"
   ]
  },
  {
   "cell_type": "code",
   "execution_count": 161,
   "metadata": {},
   "outputs": [
    {
     "data": {
      "text/plain": [
       "'yes '"
      ]
     },
     "execution_count": 161,
     "metadata": {},
     "output_type": "execute_result"
    }
   ],
   "source": [
    "results[0]['results'][1]['alternatives'][0]['transcript']"
   ]
  },
  {
   "cell_type": "code",
   "execution_count": 162,
   "metadata": {},
   "outputs": [],
   "source": [
    "def get_timespan_speaker(spk_lbls):\n",
    "    '''\n",
    "    example entry: \n",
    "        {'from': 40.83,\n",
    "      'to': 41.23,\n",
    "      'speaker': 1,\n",
    "      'confidence': 0.21,\n",
    "      'final': False}\n",
    "    '''\n",
    "    spk_dict = {}\n",
    "    spk = spk_lbls[0]['speaker']\n",
    "    start = spk_lbls[0]['from']\n",
    "    end = 0.0\n",
    "    for entry in spk_lbls: \n",
    "        # detect speaker change\n",
    "        if entry['speaker'] != spk:\n",
    "            # add entry\n",
    "            spk_dict[(start, end)] = spk\n",
    "            start = entry['from']\n",
    "            spk = entry['speaker']\n",
    "        \n",
    "        end = entry['to']\n",
    "    \n",
    "    spk_dict[(start, end)] = spk\n",
    "    \n",
    "    return spk_dict"
   ]
  },
  {
   "cell_type": "code",
   "execution_count": 163,
   "metadata": {},
   "outputs": [
    {
     "data": {
      "text/plain": [
       "\"\\nts: (1.2, 5.4), text: ['asdf'], \\n(1.2, 5.4) -> speaker?\\n\\n\\n\\n\""
      ]
     },
     "execution_count": 163,
     "metadata": {},
     "output_type": "execute_result"
    }
   ],
   "source": [
    "'''\n",
    "ts: (1.2, 5.4), text: ['asdf'], \n",
    "(1.2, 5.4) -> speaker?\n",
    "\n",
    "\n",
    "\n",
    "'''"
   ]
  },
  {
   "cell_type": "code",
   "execution_count": 164,
   "metadata": {},
   "outputs": [
    {
     "data": {
      "text/plain": [
       "dict_items([((0.74, 460.94), 0)])"
      ]
     },
     "execution_count": 164,
     "metadata": {},
     "output_type": "execute_result"
    }
   ],
   "source": [
    "# example: get timespan + speaker lbl for 1st chunk\n",
    "spk_dict = get_timespan_speaker(res_agg[0]['speaker_labels'])\n",
    "spk_dict.items()"
   ]
  },
  {
   "cell_type": "code",
   "execution_count": 165,
   "metadata": {},
   "outputs": [
    {
     "data": {
      "text/plain": [
       "{0, 1, 2}"
      ]
     },
     "execution_count": 165,
     "metadata": {},
     "output_type": "execute_result"
    }
   ],
   "source": [
    "# aggregate speaker labels from all chunks\n",
    "\n",
    "spk = set()\n",
    "all_speakers = dict()\n",
    "for i, chunk in enumerate(res_agg):\n",
    "    spk_dict = get_timespan_speaker(chunk['speaker_labels'])\n",
    "    all_speakers[i] = spk_dict\n",
    "    [spk.add(j) for j in list(spk_dict.values())]\n",
    "\n",
    "spk"
   ]
  },
  {
   "cell_type": "code",
   "execution_count": 166,
   "metadata": {},
   "outputs": [
    {
     "data": {
      "text/plain": [
       "[(0.0,), (231.84,)]"
      ]
     },
     "execution_count": 166,
     "metadata": {},
     "output_type": "execute_result"
    }
   ],
   "source": [
    "list(zip(*list(spk_dict.keys())))"
   ]
  },
  {
   "cell_type": "code",
   "execution_count": 167,
   "metadata": {},
   "outputs": [],
   "source": [
    "def get_speaker_from_ts(spk_dict, ts) -> int:\n",
    "    start, end = list(zip(*list(spk_dict.keys())))\n",
    "    \n",
    "    assert ts[0] < ts[1]\n",
    "    \n",
    "    for i, t1 in enumerate(end):\n",
    "        if ts[0] >= start[i] and ts[1] <= end[i]:\n",
    "            # time span exactly matches a single speaker\n",
    "            return spk_dict[(start[i], end[i])]\n",
    "        \n",
    "        \n",
    "        #elif ts[0] >= start[i] and ts[1] > end[i]:\n",
    "        #    raise ValueError('given timespan overlaps multiple speakers')\n",
    "    \n",
    "    return '??'\n",
    "    #raise ValueError('ts {} not corresponding to any speaker {}'.format(ts, spk_dict.items()))\n",
    "        "
   ]
  },
  {
   "cell_type": "code",
   "execution_count": 168,
   "metadata": {},
   "outputs": [],
   "source": [
    "# (42.42, 54.18) => 0"
   ]
  },
  {
   "cell_type": "code",
   "execution_count": 169,
   "metadata": {},
   "outputs": [
    {
     "data": {
      "text/plain": [
       "'??'"
      ]
     },
     "execution_count": 169,
     "metadata": {},
     "output_type": "execute_result"
    }
   ],
   "source": [
    "get_speaker_from_ts(spk_dict, (278.42, 280.18))"
   ]
  },
  {
   "cell_type": "code",
   "execution_count": 170,
   "metadata": {},
   "outputs": [
    {
     "data": {
      "text/plain": [
       "'\\nloop through cunks\\nfor each paragraph, get transcript and time span\\nfor each such time span, get speaker label\\n\\nadjust times according to chunk-id\\n\\ncombine (ts; speaker; transcript)\\n'"
      ]
     },
     "execution_count": 170,
     "metadata": {},
     "output_type": "execute_result"
    }
   ],
   "source": [
    "#def format_transcript_with_ts_spk():\n",
    "'''\n",
    "loop through cunks\n",
    "for each paragraph, get transcript and time span\n",
    "for each such time span, get speaker label\n",
    "\n",
    "adjust times according to chunk-id\n",
    "\n",
    "combine (ts; speaker; transcript)\n",
    "''' "
   ]
  },
  {
   "cell_type": "code",
   "execution_count": 171,
   "metadata": {},
   "outputs": [
    {
     "data": {
      "text/plain": [
       "{(0.74, 460.94): 0}"
      ]
     },
     "execution_count": 171,
     "metadata": {},
     "output_type": "execute_result"
    }
   ],
   "source": [
    "get_timespan_speaker(res_agg[0]['speaker_labels'])"
   ]
  },
  {
   "cell_type": "code",
   "execution_count": 172,
   "metadata": {},
   "outputs": [],
   "source": [
    "test_ts = list(get_timespan_speaker(res_agg[0]['speaker_labels']).keys())"
   ]
  },
  {
   "cell_type": "code",
   "execution_count": 173,
   "metadata": {},
   "outputs": [
    {
     "data": {
      "text/plain": [
       "37.00999999999999"
      ]
     },
     "execution_count": 173,
     "metadata": {},
     "output_type": "execute_result"
    }
   ],
   "source": [
    "277.01 % 60"
   ]
  },
  {
   "cell_type": "code",
   "execution_count": 174,
   "metadata": {},
   "outputs": [
    {
     "data": {
      "text/plain": [
       "37.01"
      ]
     },
     "execution_count": 174,
     "metadata": {},
     "output_type": "execute_result"
    }
   ],
   "source": [
    "round(divmod(277.01, 60)[1], 2)"
   ]
  },
  {
   "cell_type": "code",
   "execution_count": 175,
   "metadata": {},
   "outputs": [],
   "source": [
    "import datetime\n",
    "import time\n",
    "\n",
    "sec=277.01"
   ]
  },
  {
   "cell_type": "code",
   "execution_count": 176,
   "metadata": {},
   "outputs": [
    {
     "data": {
      "text/plain": [
       "'0:26:17.010000'"
      ]
     },
     "execution_count": 176,
     "metadata": {},
     "output_type": "execute_result"
    }
   ],
   "source": [
    "str(datetime.timedelta(seconds=1577.01))"
   ]
  },
  {
   "cell_type": "code",
   "execution_count": 179,
   "metadata": {},
   "outputs": [],
   "source": [
    "def format_timestamps(raw_ts: (float, float), chunk_id=0, min_p_chunk=10) -> (str, str):\n",
    "    '''\n",
    "    adjust timestmaps to mm:ss.ms format given an offset\n",
    "    '''\n",
    "    offset=chunk_id * min_p_chunk\n",
    "    start, end = raw_ts\n",
    "    \n",
    "    def convert_ts(t, offset):\n",
    "        m, s = divmod(t, 60)\n",
    "        s = float('{:.2f}'.format(s))\n",
    "        return '{:0>2}:{:0>4}'.format(int(m)+offset, s)\n",
    "    \n",
    "    return convert_ts(start, offset), convert_ts(end, offset) "
   ]
  },
  {
   "cell_type": "code",
   "execution_count": 180,
   "metadata": {},
   "outputs": [
    {
     "data": {
      "text/plain": [
       "('00:06.0', '09:59.99')"
      ]
     },
     "execution_count": 180,
     "metadata": {},
     "output_type": "execute_result"
    }
   ],
   "source": [
    "format_timestamps((6.0, 599.99), 0)"
   ]
  },
  {
   "cell_type": "code",
   "execution_count": 181,
   "metadata": {},
   "outputs": [],
   "source": [
    "text = []\n",
    "\n",
    "minutes_per_chunk=10\n",
    "\n",
    "for i, chunk in enumerate(res_agg): \n",
    "    \n",
    "    spk_dict = get_timespan_speaker(chunk['speaker_labels'])\n",
    "    \n",
    "    for paragraph in chunk['results']: \n",
    "        # get transcript\n",
    "        transcript = paragraph['alternatives'][0]['transcript']\n",
    "        \n",
    "        # get time span\n",
    "        ts = get_timespan_paragraph(paragraph['alternatives'][0]['timestamps'])\n",
    "        \n",
    "        # get speaker label\n",
    "        spk = get_speaker_from_ts(spk_dict, ts)\n",
    "        \n",
    "        # format time stamps into mm:ss:ms\n",
    "        ts = format_timestamps(ts, chunk_id=i)\n",
    "        \n",
    "        text.append('({}, {}) (spk {}): '.format(ts[0], ts[1], spk) + transcript + '.\\n')\n",
    "        \n",
    "    text.append(\"- end of chunk {}-\\n\".format(i+1))"
   ]
  },
  {
   "cell_type": "code",
   "execution_count": 182,
   "metadata": {},
   "outputs": [
    {
     "data": {
      "text/plain": [
       "[\"(00:0.74, 00:2.23) (spk 0): no it's fine I don't .\\n\",\n",
       " '(00:3.04, 00:3.35) (spk 0): yes .\\n',\n",
       " '(00:7.03, 00:7.35) (spk 0): yes .\\n',\n",
       " '(00:14.72, 00:15.72) (spk 0): yep so .\\n',\n",
       " '(00:17.33, 00:20.12) (spk 0): you know this is exactly where you should be right now .\\n',\n",
       " \"(00:20.93, 00:32.0) (spk 0): and you know I think you know I'm glad to see what you wrote in the email about your ideas and now you know you presented this morning on the pushchair and things like that I think they're clearly .\\n\",\n",
       " '(00:34.43, 00:35.96) (spk 0): you know I think that is .\\n',\n",
       " \"(00:37.36, 00:45.42) (spk 0): the only like going through the methodology kind of helps you organising clarify you already radical thinking a little bit it's going to be email up .\\n\",\n",
       " '(00:49.39, 00:51.72) (spk 0): just look at your poster right now because I saw that you .\\n',\n",
       " '(00:53.55, 00:54.27) (spk 0): but I think .\\n',\n",
       " \"(00:55.18, 01:3.34) (spk 0): I think you know like in the postman when you presented there I think it was it's now much clearer how are you linking all these differences medical models yeah .\\n\",\n",
       " \"(01:4.15, 01:18.08) (spk 0): do they choose to count design of the intervention let's say and what you need to do %HESITATION yeah let you know all these things that go to the feedback you've got friends if I find the feedback on you know .\\n\",\n",
       " '(01:19.06, 01:23.29) (spk 0): what exam only is mediation yes .\\n',\n",
       " \"(01:25.12, 01:38.03) (spk 0): so I think by when we were in the session this morning what was good I think and that could be productive it's just seems like a preliminary be likely more bottom up kind of thing yeah .\\n\",\n",
       " \"(01:39.22, 01:42.67) (spk 0): I know we've been talking a lot about the intervention with the invention consists a .\\n\",\n",
       " \"(01:44.21, 01:50.91) (spk 0): I think your observation of that being quite top down and just you know here's a material having to use it it's not really .\\n\",\n",
       " '(01:51.72, 01:55.6) (spk 0): however let you know is very absolutely .\\n',\n",
       " '(01:56.69, 01:57.5) (spk 0): in some ways .\\n',\n",
       " '(01:58.33, 01:58.67) (spk 0): and .\\n',\n",
       " \"(02:0.48, 02:13.57) (spk 0): I think in terms of the regions of your research on what you're trying to do might actually be very good to have some courses in aspect where you you know broken trust rather than doing interviews .\\n\",\n",
       " '(02:14.39, 02:14.83) (spk 0): yep .\\n',\n",
       " \"(02:16.24, 02:44.04) (spk 0): it's saying okay you know what kind of intervention would help you or what do you what would you think you know would be you know poses on let's see you know the kind of previous stuff you can take the problem because it's really hard for people who don't do this nothing is working designed something from scratch right but you can take the family media plan and do like a critical you know like walk through what do you think about this how would you do that .\\n\",\n",
       " \"(02:45.22, 02:59.7) (spk 0): you know %HESITATION well I do have you have you done something else you can maybe you can get some parents you actually try to engage with it and some who haven't or I've done other times since family intervention might be a bit of a search to find the people that you know .\\n\",\n",
       " \"(03:1.16, 03:5.96) (spk 0): yeah I think that's that's promising because it gives it a more definite might be able to .\\n\",\n",
       " \"(03:7.45, 03:43.98) (spk 0): help you with those questions that you're asking right now you know because I think they are if you take that open approach you're either so you have to go through marks that you've been using thank you know you could do that in approach where you incorporate all these different ones instead of when you go straight like Australia the intervention pop down you're kind of pre determining at another day you should still do that I think because this is clearly what's going on but alright well you know what the practise is at the moment but yeah I don't know what if you like tell me a little bit I'm rambling a little bit but it's also I think it's really cool .\\n\",\n",
       " '(03:55.93, 03:56.36) (spk 0): let me .\\n',\n",
       " '(04:3.96, 04:4.85) (spk 0): you should be able to sell .\\n',\n",
       " \"(05:3.49, 05:34.51) (spk 0): I mean everything about C. pounding literacy skills ready it's always there's a component of skill to it and is a component of knowledge to it right %HESITATION all these kind of things like what do you know what can you do yeah and when what do you do is your perceptions and behaviours yes so we think of it in there kind of you know whatever digital literacy model did you know literally the combination of these things out right we have skills and knowledge what kind what do you know what can you do then we have .\\n\",\n",
       " \"(05:36.25, 05:48.75) (spk 0): behaviour is in town motivation you have the motivation is always a bit weird because it's like before and after but let's put in there which is like you know the kind of one do you do and what do you think .\\n\",\n",
       " \"(05:50.06, 05:58.8) (spk 0): and then the middle help is the outcome right so if you think about the kind of you know we don't get the three levels of digital engagement or disengagement yeah .\\n\",\n",
       " \"(05:59.64, 06:17.01) (spk 0): this is engagement with technologies within a family setting but that's the kind of idea right if you think about this receive dental thing how do you know what you can do what you do what you do saying leave this certain outcomes indigenous societies thank in digital yep .\\n\",\n",
       " '(06:17.94, 06:21.29) (spk 0): so that is hoping its digital literacy yeah .\\n',\n",
       " '(06:26.65, 06:31.95) (spk 0): yep yep thanks a literacy digit patch digital parenting literacy .\\n',\n",
       " '(06:39.56, 06:39.9) (spk 0): yep .\\n',\n",
       " '(06:49.3, 07:0.99) (spk 0): so what this is why I use the terminology social digital for everything that I do so there is you know if you have to rental knowledge you will have rental knowledge around or anything yeah .\\n',\n",
       " '(07:2.36, 07:16.36) (spk 0): Randall parenting skills yes what do you know how to do with you know and then you will have a digital component as well yes so you will have its parents my normal parent but they might not know how to do that in the digit all kind of go around technologies right .\\n',\n",
       " \"(07:17.73, 07:35.63) (spk 0): yep so I think that there's a double and a same thing with behaviours and perceptions is about kind of you know what do you do %HESITATION what do you do with the joy you can sink if there's like a specially in the perceptions because I must be present maybe perceptions about counting in and kind of the right kind of thing to do .\\n\",\n",
       " '(07:36.81, 07:40.94) (spk 0): I have a general sense of the might be Startin instead are you know .\\n',\n",
       " '- end of chunk 1-\\n',\n",
       " '(10:1.29, 10:5.01) (spk 2): yes they are specifically around the digital space .\\n',\n",
       " '(10:12.01, 10:12.87) (spk 2): read all the details .\\n',\n",
       " '(11:11.49, 11:11.71) (spk 2): yes .\\n',\n",
       " '(11:22.82, 11:23.06) (spk 2): yep .\\n',\n",
       " '(11:25.84, 11:39.12) (spk 2): yep no I think so too I think so and I think you know then then we come back to a lot of these kind of course the reason behaviour change there is a plan behaviour enough reason actually you know I know and the cricket struggle against does .\\n',\n",
       " \"(11:40.76, 12:8.62) (spk 2): more a social critical perspective so I think there is no that's that's the you know there's a lot of links that you can make between those and can broaden your brother that's in digital engagement literature or engagement with technology to address and that is not reflected at all in the parenting you know everything about parental mediation because things are not taking up actual is about defining parental mediation island you know looking at child behaviour but not really at the parents .\\n\",\n",
       " \"(12:9.43, 12:55.39) (spk 2): helicase abilities or the parents in between here right like what is that you know the translation of knowledge and skills in to be a year fifteen double behavioural patterns is not well there is a big literature upside you know she was trying to use a baby changing you know natural behaviour you know there's people been thinking about this all the time but it's not integrated in also I think that's where your original contribution is in this field you know right really so I think you know that's something that's been you know like all this convolution August thinking about all these theories and also meant you know that's what you have to do to be able to end up in this kind of position that you're in right now I think this is you know .\\n\",\n",
       " \"(12:56.43, 13:13.27) (spk 2): is this also Canada model is kind of you know need yep you will you also have to do a project that is you know there's a try to do everything as we receiving sessions morning right you need to do you need to find this core and do with is for .\\n\",\n",
       " '(13:14.61, 13:18.57) (spk 2): your real competition so good thing great and .\\n',\n",
       " \"(13:25.13, 13:27.17) (spk 2): could you give me a little bit because it's over .\\n\",\n",
       " '(13:34.64, 13:34.95) (spk 2): yep .\\n',\n",
       " '(13:51.68, 13:53.11) (spk 2): values are .\\n',\n",
       " \"(13:54.38, 14:5.63) (spk 2): so I think they've already invested in English is like valuables valued appreciated more something that you do in object this started because that is fine it's like a good word but .\\n\",\n",
       " '(14:07.9, 14:11.85) (spk 2): yep constructive in values or valuable you know .\\n',\n",
       " \"(14:32.59, 14:57.39) (spk 2): that's really interesting okay maybe maybe it's a language that could be using the thing is that when we use it in this contact obviously with you appreciation as you appreciate something like an object an external thing rather than you know I appreciate that you did that for me is not about a conversation or but it might be interesting to see that the children maybe that terminology that you would have to do some explaining within this contact of what it means but might be .\\n\",\n",
       " '(15:32.27, 15:32.59) (spk 2): yep .\\n',\n",
       " '(15:44.67, 15:46.06) (spk 2): I could send that to prevent .\\n',\n",
       " \"(15:47.47, 15:59.88) (spk 2): right worried if you like %HESITATION but you wanted to be on credit watch cartoons all the time or legal on the road all the time like everything they make sure you talk to them about what they're doing and why you know why don't .\\n\",\n",
       " \"(16:1.14, 16:1.78) (spk 2): where's it by .\\n\",\n",
       " '(16:2.82, 16:3.07) (spk 2): thank you .\\n',\n",
       " '(16:11.66, 16:12.01) (spk 2): yes .\\n',\n",
       " \"(16:15.05, 16:17.62) (spk 2): I know that's why I think it might be done in the region .\\n\",\n",
       " '(16:48.34, 16:48.62) (spk 2): okay .\\n',\n",
       " '(16:59.47, 17:5.35) (spk 2): yes yes yes yeah like generational transfer a you know like continuity you know .\\n',\n",
       " '(17:6.16, 17:9.66) (spk 2): B. twenty five inheritance yes the morning how .\\n',\n",
       " '(17:29.68, 17:31.7) (spk 2): the school and make their homework and .\\n',\n",
       " '(17:43.68, 17:43.96) (spk 2): yes .\\n',\n",
       " '(18:11.07, 18:11.43) (spk 2): yep .\\n',\n",
       " \"(18:27.69, 18:47.06) (spk 2): yeah I mean so this is a bit against this is the way I need to find literacy you know I think it was a C. is from from skills and knowledge to outcomes right everything about everything just go stand by because project if that whole process right that is the Tricity for me the individual elements are skills or here's you know .\\n\",\n",
       " '(18:48.71, 19:4.51) (spk 2): but in the end when we talk about literally the whole thing about being able to find in use information to fly a June Jennifer you know take action do achieving certain outcomes in this in your case mental help so I would say that literacy is actually branche .\\n',\n",
       " '(19:6.57, 19:16.27) (spk 2): these things you know these other things our our account stuff need to receive their skills or or elements to that bigger literacy idea .\\n',\n",
       " '(19:17.32, 19:21.13) (spk 2): how are you I mean I know everybody agrees with me in this but .\\n',\n",
       " '(19:21.94, 19:22.35) (spk 2): yep .\\n',\n",
       " '(19:37.89, 19:38.17) (spk 2): yes .\\n',\n",
       " '- end of chunk 2-\\n',\n",
       " \"(20:4.99, 20:24.74) (spk 1): yeah no I think that's that's the whole I think dad's yes I do that's all promising and and good and that's why that's why you're doing this project because this you know just where it goes from series all these academics doing theory too expensive doing practise family in family right .\\n\",\n",
       " \"(20:25.68, 20:40.96) (spk 1): really so I think this is also why when you were talking about the bottom box kind of approach I think this is that's also very promising in that sense yeah but you can you can also see okay so this was a theory sent about all these parenting options in parenting styles and .\\n\",\n",
       " '(20:41.77, 20:47.91) (spk 1): you know I have believed to do well being but you know translated into certain interventions .\\n',\n",
       " '(20:48.72, 20:52.55) (spk 1): my experience this is found you know from the bottom up with family .\\n',\n",
       " \"(20:53.54, 21:20.09) (spk ??): so much about the problems they're having but about like so I think that's the that's the original part you can contribute not so much in terms of the problems that they're having with parenting because there's you know Sonya and everybody else is already done quite a lot of interviews but that but more about okay you know if you want to change something or if you want to improve you know like what are the concrete steps that you think would be most helpful .\\n\",\n",
       " \"(21:21.32, 21:33.55) (spk 1): if they tell you talk more yes I what kind of %HESITATION proof things would you like to sizes or you know information would you would you want to have they've been like you know .\\n\",\n",
       " '(21:34.43, 21:36.92) (spk 1): conversation about this or talk to your child .\\n',\n",
       " '(21:39.52, 21:42.31) (spk 1): because in the end that behaviour change I have a change .\\n',\n",
       " '(21:44.03, 21:44.99) (spk 1): so yep .\\n',\n",
       " \"(21:46.04, 21:51.36) (spk 1): and then you might see that there's four people much more problems we could be seen as handy Joel and broad .\\n\",\n",
       " \"(21:52.68, 22:7.69) (spk 1): they don't see small behaviour this is often a problem of behaviour change you know please talk about anything I don't want to change behaviour that they think it's negative or next week something that life is a bit off think of it as a big behaviour right now great right if you do exchanging .\\n\",\n",
       " '(22:8.59, 22:9.07) (spk 1): like .\\n',\n",
       " '(22:10.58, 22:17.93) (spk 1): addiction or something right like I need to be not addictive right alright I want to I want to become vegetarian .\\n',\n",
       " \"(22:18.74, 22:55.07) (spk 1): I'm interested in and then people say oh my god like you know the called party approach refresh some people but not many so you could say that okay if you want to start become vegetarian then maybe start by eating one you know I've been one day a week you don't eat me or you know something like that and I think that like breaking it down into smaller chunks for for this kind of parenting stuff it's going to be very importance and that's something that you can do with families yes so you could you could really think about you know that kind of quality pre .\\n\",\n",
       " '(22:55.88, 22:58.7) (spk 1): do you know G. methodology yes .\\n',\n",
       " '(22:59.58, 23:2.93) (spk 1): so I think that is very very promising and .\\n',\n",
       " '(23:4.81, 23:12.17) (spk 1): something that you will need to do also to be able to understand how you have to divide design your experiment in your intervention .\\n',\n",
       " '(23:14.72, 23:15.11) (spk 1): yes .\\n',\n",
       " '(23:41.52, 23:41.89) (spk 1): no .\\n',\n",
       " '(24:3.68, 24:4.02) (spk 1): yep .\\n',\n",
       " '(25:11.29, 25:11.76) (spk 1): okay .\\n',\n",
       " '(26:26.5, 26:26.93) (spk 1): okay .\\n',\n",
       " '(26:32.78, 26:33.12) (spk 0): okay .\\n',\n",
       " \"(26:34.1, 26:44.59) (spk 0): so I think I think you know there's like you can also think about it in terms of several barriers you know where my Beria's occur for people to start you know using technology in a way .\\n\",\n",
       " '(26:46.01, 27:6.81) (spk ??): that is kind of more positive in terms of mental help and all about being in the family right okay I also like how this one is at the end keeps changing and every everything that I see like well being family well being child well being health anyway I think this is a bit you need to have a separate session on that last column that we keep ignoring .\\n',\n",
       " '(27:8.91, 27:16.44) (spk ??): thank you say that you know before your parental knowledge there is like a space right would certainly happen in certain you know certain kind of .\\n']"
      ]
     },
     "execution_count": 182,
     "metadata": {},
     "output_type": "execute_result"
    }
   ],
   "source": [
    "text[:100]"
   ]
  },
  {
   "cell_type": "code",
   "execution_count": 186,
   "metadata": {},
   "outputs": [
    {
     "name": "stdout",
     "output_type": "stream",
     "text": [
      "./output/PR_file2_2021-04-01_12-06-30_transcript_formatted.txt\n"
     ]
    }
   ],
   "source": [
    "# save transcript\n",
    "out_name = out_dir + base_name + '_transcript_formatted.txt'\n",
    "with open(out_name, 'w') as f_out: \n",
    "    f_out.writelines(text)\n",
    "print(out_name)"
   ]
  },
  {
   "cell_type": "code",
   "execution_count": 170,
   "metadata": {},
   "outputs": [],
   "source": [
    "def ibm_watson_s2t(filename: str) -> str:\n",
    "    authenticator = IAMAuthenticator(api_key)\n",
    "    speech2text = SpeechToTextV1(authenticator=authenticator)\n",
    "    speech2text.set_service_url(my_endpoint)\n",
    "\n",
    "    with open(filename, 'rb') as audio_file:\n",
    "        response = speech2text.recognize(\n",
    "            audio=audio_file,\n",
    "            content_type='audio/{}'.format(os.path.splitext(filename)[1][1:]),\n",
    "            max_alternatives=1,\n",
    "            model='en-GB_NarrowbandModel',\n",
    "            speaker_labels=True).get_result()\n",
    "\n",
    "    return response"
   ]
  },
  {
   "cell_type": "markdown",
   "metadata": {},
   "source": [
    "## Technical Debt\n",
    "\n",
    "- handle Audio format other than mp3\n",
    "- iterate over all chunks in one loop (without getting interrupted by IBM due to too many requests)\n",
    "- create basic API to use without Jupyter notebook\n",
    "- add parameters to pass individual API keys and service endpoint\n",
    "- add parameters to pass name and directory for input and output file\n",
    "- add parameter to control STT params (language, speaker labels, inactivity_timeout)\n",
    "- add parameter to control chunk size"
   ]
  },
  {
   "cell_type": "code",
   "execution_count": 22,
   "metadata": {},
   "outputs": [
    {
     "data": {
      "text/plain": [
       "'\\nApiException: Error: <HTML><HEAD>\\n<TITLE>Internal Server Error</TITLE>\\n</HEAD><BODY>\\n<H1>Internal Server Error - Write</H1>\\nThe server encountered an internal error or misconfiguration and was unable to\\ncomplete your request.<P>\\nReference&#32;&#35;4&#46;a5901602&#46;1615816352&#46;7132959\\n</BODY></HTML>\\n, Code: 503\\n'"
      ]
     },
     "execution_count": 22,
     "metadata": {},
     "output_type": "execute_result"
    }
   ],
   "source": [
    "'''\n",
    "ApiException: Error: <HTML><HEAD>\n",
    "<TITLE>Internal Server Error</TITLE>\n",
    "</HEAD><BODY>\n",
    "<H1>Internal Server Error - Write</H1>\n",
    "The server encountered an internal error or misconfiguration and was unable to\n",
    "complete your request.<P>\n",
    "Reference&#32;&#35;4&#46;a5901602&#46;1615816352&#46;7132959\n",
    "</BODY></HTML>\n",
    ", Code: 503\n",
    "'''"
   ]
  },
  {
   "cell_type": "code",
   "execution_count": null,
   "metadata": {},
   "outputs": [],
   "source": []
  }
 ],
 "metadata": {
  "kernelspec": {
   "display_name": "Python 3",
   "language": "python",
   "name": "python3"
  },
  "language_info": {
   "codemirror_mode": {
    "name": "ipython",
    "version": 3
   },
   "file_extension": ".py",
   "mimetype": "text/x-python",
   "name": "python",
   "nbconvert_exporter": "python",
   "pygments_lexer": "ipython3",
   "version": "3.7.3"
  }
 },
 "nbformat": 4,
 "nbformat_minor": 2
}
